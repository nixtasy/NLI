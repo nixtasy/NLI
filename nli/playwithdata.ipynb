{
 "cells": [
  {
   "cell_type": "code",
   "execution_count": 31,
   "metadata": {
    "ExecuteTime": {
     "end_time": "2020-04-21T21:50:37.959805Z",
     "start_time": "2020-04-21T21:50:37.853768Z"
    }
   },
   "outputs": [],
   "source": [
    "import jsonlines"
   ]
  },
  {
   "cell_type": "code",
   "execution_count": 32,
   "metadata": {
    "ExecuteTime": {
     "end_time": "2020-04-21T21:50:45.166703Z",
     "start_time": "2020-04-21T21:50:43.669159Z"
    }
   },
   "outputs": [],
   "source": [
    "with jsonlines.open('jsonl/train.jsonl') as reader:  \n",
    "    train = [obj for obj in reader]\n",
    "    \n",
    "with jsonlines.open('jsonl/train-labels.lst') as reader:  \n",
    "    train_labels = [obj for obj in reader] \n",
    "    \n",
    "with jsonlines.open('jsonl/dev.jsonl') as reader:  \n",
    "    dev = [obj for obj in reader]\n",
    "    \n",
    "with jsonlines.open('jsonl/dev-labels.lst') as reader:  \n",
    "    dev_labels = [obj for obj in reader] "
   ]
  },
  {
   "cell_type": "code",
   "execution_count": 41,
   "metadata": {
    "ExecuteTime": {
     "end_time": "2020-04-21T21:55:01.945906Z",
     "start_time": "2020-04-21T21:55:01.929518Z"
    }
   },
   "outputs": [
    {
     "data": {
      "text/plain": [
       "[1, 1, 1, 1, 1, 1, 1, 1, 1, 1]"
      ]
     },
     "execution_count": 41,
     "metadata": {},
     "output_type": "execute_result"
    }
   ],
   "source": [
    "pseudo_predictions = [1 for i in range(len(train))]\n",
    "pseudo_predictions[:10]"
   ]
  },
  {
   "cell_type": "code",
   "execution_count": 36,
   "metadata": {
    "ExecuteTime": {
     "end_time": "2020-04-21T21:51:56.008337Z",
     "start_time": "2020-04-21T21:51:56.000925Z"
    }
   },
   "outputs": [
    {
     "data": {
      "text/plain": [
       "{'story_id': '002fa9df-ad31-49ef-bb25-d2d0144d6b7c-1',\n",
       " 'obs1': 'The boy loved telling scary stories.',\n",
       " 'obs2': 'She mad him stop telling myths.',\n",
       " 'hyp1': 'His stories were so vivid it gave her nightmares .',\n",
       " 'hyp2': \"His stories were so fake it didn't give her nightmares.\"}"
      ]
     },
     "execution_count": 36,
     "metadata": {},
     "output_type": "execute_result"
    }
   ],
   "source": [
    "train[100]"
   ]
  },
  {
   "cell_type": "code",
   "execution_count": 42,
   "metadata": {
    "ExecuteTime": {
     "end_time": "2020-04-21T21:55:25.697786Z",
     "start_time": "2020-04-21T21:55:25.691157Z"
    }
   },
   "outputs": [
    {
     "data": {
      "text/plain": [
       "1"
      ]
     },
     "execution_count": 42,
     "metadata": {},
     "output_type": "execute_result"
    }
   ],
   "source": [
    "train_labels[100]"
   ]
  },
  {
   "cell_type": "code",
   "execution_count": 59,
   "metadata": {
    "ExecuteTime": {
     "end_time": "2020-04-21T22:53:36.862878Z",
     "start_time": "2020-04-21T22:53:36.854065Z"
    }
   },
   "outputs": [],
   "source": [
    "def Precision(TP,FP):\n",
    "    if TP == 0:\n",
    "        return 0\n",
    "    else:\n",
    "        return TP/(TP+FP)\n",
    "\n",
    "def Recall(TP,FN):\n",
    "    if TP == 0:\n",
    "        return 0\n",
    "    else:\n",
    "        return TP/(TP+FN)\n",
    "\n",
    "def F(P,R):\n",
    "        if P==0:\n",
    "            return 0\n",
    "        else:\n",
    "            return 2*P*R/(P+R)\n",
    "\n",
    "def Eva(Hn, predictions, labels):\n",
    "    TP = 0\n",
    "    FP = 0\n",
    "    FN = 0\n",
    "    for p,l in zip(predictions,labels):\n",
    "        if p == Hn:\n",
    "            if p == l:\n",
    "                TP += 1\n",
    "            else:\n",
    "                FP += 1\n",
    "        else:\n",
    "            if p != l:\n",
    "                FN += 1\n",
    "    P = Precision(TP,FP)\n",
    "    R = Recall(TP,FN)\n",
    "    F1 = F(P,R)\n",
    "    print(\"H%d: Precison %f, Recall %f, F1 %f\" %(Hn, P, R, F1))"
   ]
  },
  {
   "cell_type": "code",
   "execution_count": 60,
   "metadata": {
    "ExecuteTime": {
     "end_time": "2020-04-21T22:53:42.275567Z",
     "start_time": "2020-04-21T22:53:42.255951Z"
    }
   },
   "outputs": [
    {
     "name": "stdout",
     "output_type": "stream",
     "text": [
      "H1: Precison 0.500029, Recall 1.000000, F1 0.666693\n"
     ]
    }
   ],
   "source": [
    "Eva(1, pseudo_predictions, train_labels)"
   ]
  },
  {
   "cell_type": "code",
   "execution_count": 61,
   "metadata": {
    "ExecuteTime": {
     "end_time": "2020-04-21T22:53:47.634688Z",
     "start_time": "2020-04-21T22:53:47.615751Z"
    }
   },
   "outputs": [
    {
     "name": "stdout",
     "output_type": "stream",
     "text": [
      "H2: Precison 0.000000, Recall 0.000000, F1 0.000000\n"
     ]
    }
   ],
   "source": [
    "Eva(2, pseudo_predictions, train_labels)"
   ]
  },
  {
   "cell_type": "code",
   "execution_count": null,
   "metadata": {},
   "outputs": [],
   "source": []
  }
 ],
 "metadata": {
  "kernelspec": {
   "display_name": "Python(myenv)",
   "language": "python",
   "name": "myenv"
  },
  "language_info": {
   "codemirror_mode": {
    "name": "ipython",
    "version": 3
   },
   "file_extension": ".py",
   "mimetype": "text/x-python",
   "name": "python",
   "nbconvert_exporter": "python",
   "pygments_lexer": "ipython3",
   "version": "3.7.3"
  },
  "latex_envs": {
   "LaTeX_envs_menu_present": true,
   "autoclose": false,
   "autocomplete": true,
   "bibliofile": "biblio.bib",
   "cite_by": "apalike",
   "current_citInitial": 1,
   "eqLabelWithNumbers": true,
   "eqNumInitial": 1,
   "hotkeys": {
    "equation": "Ctrl-E",
    "itemize": "Ctrl-I"
   },
   "labels_anchors": false,
   "latex_user_defs": false,
   "report_style_numbering": false,
   "user_envs_cfg": false
  },
  "varInspector": {
   "cols": {
    "lenName": 16,
    "lenType": 16,
    "lenVar": 40
   },
   "kernels_config": {
    "python": {
     "delete_cmd_postfix": "",
     "delete_cmd_prefix": "del ",
     "library": "var_list.py",
     "varRefreshCmd": "print(var_dic_list())"
    },
    "r": {
     "delete_cmd_postfix": ") ",
     "delete_cmd_prefix": "rm(",
     "library": "var_list.r",
     "varRefreshCmd": "cat(var_dic_list()) "
    }
   },
   "types_to_exclude": [
    "module",
    "function",
    "builtin_function_or_method",
    "instance",
    "_Feature"
   ],
   "window_display": false
  }
 },
 "nbformat": 4,
 "nbformat_minor": 2
}
