{
 "cells": [
  {
   "cell_type": "code",
   "execution_count": 15,
   "metadata": {
    "ExecuteTime": {
     "end_time": "2020-04-25T09:41:14.963239Z",
     "start_time": "2020-04-25T09:41:14.959577Z"
    }
   },
   "outputs": [],
   "source": [
    "import jsonlines\n",
    "import numpy as np\n",
    "from sklearn.metrics import precision_recall_fscore_support"
   ]
  },
  {
   "cell_type": "code",
   "execution_count": 2,
   "metadata": {
    "ExecuteTime": {
     "end_time": "2020-04-25T09:33:12.700372Z",
     "start_time": "2020-04-25T09:33:11.277103Z"
    }
   },
   "outputs": [],
   "source": [
    "with jsonlines.open('jsonl/train.jsonl') as reader:  \n",
    "    train = [obj for obj in reader]\n",
    "    \n",
    "with jsonlines.open('jsonl/train-labels.lst') as reader:  \n",
    "    train_labels = [obj for obj in reader] \n",
    "    \n",
    "with jsonlines.open('jsonl/dev.jsonl') as reader:  \n",
    "    dev = [obj for obj in reader]\n",
    "    \n",
    "with jsonlines.open('jsonl/dev-labels.lst') as reader:  \n",
    "    dev_labels = [obj for obj in reader] "
   ]
  },
  {
   "cell_type": "code",
   "execution_count": 3,
   "metadata": {
    "ExecuteTime": {
     "end_time": "2020-04-25T09:33:14.412592Z",
     "start_time": "2020-04-25T09:33:14.378650Z"
    }
   },
   "outputs": [
    {
     "data": {
      "text/plain": [
       "[1, 1, 1, 1, 1, 1, 1, 1, 1, 1]"
      ]
     },
     "execution_count": 3,
     "metadata": {},
     "output_type": "execute_result"
    }
   ],
   "source": [
    "pseudo_predictions = [1 for i in range(len(train))]\n",
    "pseudo_predictions[:10]"
   ]
  },
  {
   "cell_type": "code",
   "execution_count": 4,
   "metadata": {
    "ExecuteTime": {
     "end_time": "2020-04-25T09:33:16.570745Z",
     "start_time": "2020-04-25T09:33:16.560414Z"
    }
   },
   "outputs": [
    {
     "data": {
      "text/plain": [
       "{'story_id': '002fa9df-ad31-49ef-bb25-d2d0144d6b7c-1',\n",
       " 'obs1': 'The boy loved telling scary stories.',\n",
       " 'obs2': 'She mad him stop telling myths.',\n",
       " 'hyp1': 'His stories were so vivid it gave her nightmares .',\n",
       " 'hyp2': \"His stories were so fake it didn't give her nightmares.\"}"
      ]
     },
     "execution_count": 4,
     "metadata": {},
     "output_type": "execute_result"
    }
   ],
   "source": [
    "train[100]"
   ]
  },
  {
   "cell_type": "code",
   "execution_count": 5,
   "metadata": {
    "ExecuteTime": {
     "end_time": "2020-04-25T09:33:19.503681Z",
     "start_time": "2020-04-25T09:33:19.496723Z"
    }
   },
   "outputs": [
    {
     "data": {
      "text/plain": [
       "1"
      ]
     },
     "execution_count": 5,
     "metadata": {},
     "output_type": "execute_result"
    }
   ],
   "source": [
    "train_labels[100]"
   ]
  },
  {
   "cell_type": "code",
   "execution_count": 12,
   "metadata": {
    "ExecuteTime": {
     "end_time": "2020-04-25T09:39:05.830870Z",
     "start_time": "2020-04-25T09:39:05.817919Z"
    }
   },
   "outputs": [],
   "source": [
    "def Precision(TP,FP):\n",
    "    if TP == 0:\n",
    "        return 0\n",
    "    else:\n",
    "        return TP/(TP+FP)\n",
    "\n",
    "def Recall(TP,FN):\n",
    "    if TP == 0:\n",
    "        return 0\n",
    "    else:\n",
    "        return TP/(TP+FN)\n",
    "\n",
    "def F(P,R):\n",
    "    if P==0:\n",
    "        return 0\n",
    "    else:\n",
    "        return 2*P*R/(P+R)\n",
    "        \n",
    "def Accuracy(TP, TN, FP, FN):\n",
    "    return ( TP + TN )/ (TP + TN + FP + FN)\n",
    "                               \n",
    "\n",
    "def Eva(Hn, predictions, labels):\n",
    "    TP = 0\n",
    "    TN = 0\n",
    "    FP = 0\n",
    "    FN = 0\n",
    "    for p,l in zip(predictions,labels):\n",
    "        if p == Hn:\n",
    "            if l == p:\n",
    "                TP += 1\n",
    "            else:\n",
    "                FP += 1\n",
    "        else:\n",
    "            if l == p:\n",
    "                TN += 1\n",
    "            else:\n",
    "                FN += 1\n",
    "    P = Precision(TP,FP)\n",
    "    R = Recall(TP,FN)\n",
    "    F1 = F(P,R)\n",
    "    Acc = Accuracy(TP, TN, FP, FN)\n",
    "    print(\"H%d: Precison %f, Recall %f, Accuracy %f, F1 %f\" %(Hn, P, R, Acc, F1)) "
   ]
  },
  {
   "cell_type": "code",
   "execution_count": 13,
   "metadata": {
    "ExecuteTime": {
     "end_time": "2020-04-25T09:39:06.368101Z",
     "start_time": "2020-04-25T09:39:06.342787Z"
    }
   },
   "outputs": [
    {
     "name": "stdout",
     "output_type": "stream",
     "text": [
      "H1: Precison 0.500029, Recall 1.000000, Accuracy 0.500029, F1 0.666693\n"
     ]
    }
   ],
   "source": [
    "Eva(1, pseudo_predictions, train_labels)"
   ]
  },
  {
   "cell_type": "code",
   "execution_count": 14,
   "metadata": {
    "ExecuteTime": {
     "end_time": "2020-04-25T09:39:06.906174Z",
     "start_time": "2020-04-25T09:39:06.884152Z"
    }
   },
   "outputs": [
    {
     "name": "stdout",
     "output_type": "stream",
     "text": [
      "H2: Precison 0.000000, Recall 0.000000, Accuracy 0.500029, F1 0.000000\n"
     ]
    }
   ],
   "source": [
    "Eva(2, pseudo_predictions, train_labels)"
   ]
  },
  {
   "cell_type": "code",
   "execution_count": 18,
   "metadata": {
    "ExecuteTime": {
     "end_time": "2020-04-25T09:42:56.610162Z",
     "start_time": "2020-04-25T09:42:56.396703Z"
    }
   },
   "outputs": [
    {
     "name": "stderr",
     "output_type": "stream",
     "text": [
      "/Users/wangtianxiang/miniconda3/envs/myenv/lib/python3.7/site-packages/sklearn/metrics/classification.py:1437: UndefinedMetricWarning: Precision and F-score are ill-defined and being set to 0.0 in labels with no predicted samples.\n",
      "  'precision', 'predicted', average, warn_for)\n"
     ]
    },
    {
     "data": {
      "text/plain": [
       "(array([0.50002947, 0.        ]),\n",
       " array([1., 0.]),\n",
       " array([0.66669286, 0.        ]),\n",
       " array([84832, 84822]))"
      ]
     },
     "execution_count": 18,
     "metadata": {},
     "output_type": "execute_result"
    }
   ],
   "source": [
    "precision_recall_fscore_support(train_labels, pseudo_predictions, average=None)"
   ]
  },
  {
   "cell_type": "code",
   "execution_count": null,
   "metadata": {},
   "outputs": [],
   "source": []
  }
 ],
 "metadata": {
  "kernelspec": {
   "display_name": "Python 3",
   "language": "python",
   "name": "python3"
  },
  "language_info": {
   "codemirror_mode": {
    "name": "ipython",
    "version": 3
   },
   "file_extension": ".py",
   "mimetype": "text/x-python",
   "name": "python",
   "nbconvert_exporter": "python",
   "pygments_lexer": "ipython3",
   "version": "3.7.6"
  },
  "latex_envs": {
   "LaTeX_envs_menu_present": true,
   "autoclose": false,
   "autocomplete": true,
   "bibliofile": "biblio.bib",
   "cite_by": "apalike",
   "current_citInitial": 1,
   "eqLabelWithNumbers": true,
   "eqNumInitial": 1,
   "hotkeys": {
    "equation": "Ctrl-E",
    "itemize": "Ctrl-I"
   },
   "labels_anchors": false,
   "latex_user_defs": false,
   "report_style_numbering": false,
   "user_envs_cfg": false
  },
  "varInspector": {
   "cols": {
    "lenName": 16,
    "lenType": 16,
    "lenVar": 40
   },
   "kernels_config": {
    "python": {
     "delete_cmd_postfix": "",
     "delete_cmd_prefix": "del ",
     "library": "var_list.py",
     "varRefreshCmd": "print(var_dic_list())"
    },
    "r": {
     "delete_cmd_postfix": ") ",
     "delete_cmd_prefix": "rm(",
     "library": "var_list.r",
     "varRefreshCmd": "cat(var_dic_list()) "
    }
   },
   "types_to_exclude": [
    "module",
    "function",
    "builtin_function_or_method",
    "instance",
    "_Feature"
   ],
   "window_display": false
  }
 },
 "nbformat": 4,
 "nbformat_minor": 2
}
