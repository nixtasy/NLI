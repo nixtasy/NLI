{
 "cells": [
  {
   "cell_type": "code",
   "execution_count": 2,
   "metadata": {
    "ExecuteTime": {
     "end_time": "2020-04-09T10:28:13.539881Z",
     "start_time": "2020-04-09T10:28:13.534881Z"
    }
   },
   "outputs": [],
   "source": [
    "import pandas as pd"
   ]
  },
  {
   "cell_type": "code",
   "execution_count": 20,
   "metadata": {
    "ExecuteTime": {
     "end_time": "2020-04-09T10:50:01.583303Z",
     "start_time": "2020-04-09T10:49:55.400831Z"
    }
   },
   "outputs": [
    {
     "name": "stderr",
     "output_type": "stream",
     "text": [
      "/Users/wangtianxiang/miniconda3/envs/myenv/lib/python3.7/site-packages/ipykernel_launcher.py:1: ParserWarning: Falling back to the 'python' engine because the 'c' engine does not support regex separators (separators > 1 char and different from '\\s+' are interpreted as regex); you can avoid this warning by specifying engine='python'.\n",
      "  \"\"\"Entry point for launching an IPython kernel.\n"
     ]
    }
   ],
   "source": [
    "DE = pd.read_csv('./DE/train-DE.csv', sep = '[\\t]{2,}', names = [\"username\",\"timestamp\",\"tweet\"])"
   ]
  },
  {
   "cell_type": "code",
   "execution_count": 21,
   "metadata": {
    "ExecuteTime": {
     "end_time": "2020-04-09T10:50:03.488632Z",
     "start_time": "2020-04-09T10:50:03.475247Z"
    }
   },
   "outputs": [
    {
     "data": {
      "text/html": [
       "<div>\n",
       "<style scoped>\n",
       "    .dataframe tbody tr th:only-of-type {\n",
       "        vertical-align: middle;\n",
       "    }\n",
       "\n",
       "    .dataframe tbody tr th {\n",
       "        vertical-align: top;\n",
       "    }\n",
       "\n",
       "    .dataframe thead th {\n",
       "        text-align: right;\n",
       "    }\n",
       "</style>\n",
       "<table border=\"1\" class=\"dataframe\">\n",
       "  <thead>\n",
       "    <tr style=\"text-align: right;\">\n",
       "      <th></th>\n",
       "      <th>username</th>\n",
       "      <th>timestamp</th>\n",
       "      <th>tweet</th>\n",
       "    </tr>\n",
       "  </thead>\n",
       "  <tbody>\n",
       "    <tr>\n",
       "      <th>0</th>\n",
       "      <td>USERNAME</td>\n",
       "      <td>2015-08-27 23:59:21 +0200\\t637021607593136129</td>\n",
       "      <td>@whatdoyoufancy_\\tde\\tStephanie Grimm\\t@sulfur...</td>\n",
       "    </tr>\n",
       "    <tr>\n",
       "      <th>1</th>\n",
       "      <td>USERNAME</td>\n",
       "      <td>2013-04-09 22:32:17 +0200\\t321722256424325121</td>\n",
       "      <td>@Calvindile\\ten\\tSon of Wat\\t@FabulousFeder Ok...</td>\n",
       "    </tr>\n",
       "    <tr>\n",
       "      <th>2</th>\n",
       "      <td>USERNAME</td>\n",
       "      <td>2015-05-26 16:10:01 +0200\\t603201426085523457</td>\n",
       "      <td>@xBetterThanU\\tde\\tHAROLD WURST\\t#np http://t....</td>\n",
       "    </tr>\n",
       "    <tr>\n",
       "      <th>3</th>\n",
       "      <td>USERNAME</td>\n",
       "      <td>2015-09-25 15:05:46 +0200\\t647396577561214977</td>\n",
       "      <td>@AranJaeger\\ten\\t🌙 in the 🌲🌲🌲 Aran\\tTIL: Eins ...</td>\n",
       "    </tr>\n",
       "    <tr>\n",
       "      <th>4</th>\n",
       "      <td>USERNAME</td>\n",
       "      <td>2015-08-11 21:58:30 +0200\\t631192991936475136</td>\n",
       "      <td>@FrauBruellen\\tde\\tFrau Bruellen\\t@drehumdiebo...</td>\n",
       "    </tr>\n",
       "  </tbody>\n",
       "</table>\n",
       "</div>"
      ],
      "text/plain": [
       "   username                                      timestamp  \\\n",
       "0  USERNAME  2015-08-27 23:59:21 +0200\\t637021607593136129   \n",
       "1  USERNAME  2013-04-09 22:32:17 +0200\\t321722256424325121   \n",
       "2  USERNAME  2015-05-26 16:10:01 +0200\\t603201426085523457   \n",
       "3  USERNAME  2015-09-25 15:05:46 +0200\\t647396577561214977   \n",
       "4  USERNAME  2015-08-11 21:58:30 +0200\\t631192991936475136   \n",
       "\n",
       "                                               tweet  \n",
       "0  @whatdoyoufancy_\\tde\\tStephanie Grimm\\t@sulfur...  \n",
       "1  @Calvindile\\ten\\tSon of Wat\\t@FabulousFeder Ok...  \n",
       "2  @xBetterThanU\\tde\\tHAROLD WURST\\t#np http://t....  \n",
       "3  @AranJaeger\\ten\\t🌙 in the 🌲🌲🌲 Aran\\tTIL: Eins ...  \n",
       "4  @FrauBruellen\\tde\\tFrau Bruellen\\t@drehumdiebo...  "
      ]
     },
     "execution_count": 21,
     "metadata": {},
     "output_type": "execute_result"
    }
   ],
   "source": [
    "DE[:5]"
   ]
  },
  {
   "cell_type": "code",
   "execution_count": null,
   "metadata": {},
   "outputs": [],
   "source": []
  }
 ],
 "metadata": {
  "kernelspec": {
   "display_name": "Python(myenv)",
   "language": "python",
   "name": "myenv"
  },
  "language_info": {
   "codemirror_mode": {
    "name": "ipython",
    "version": 3
   },
   "file_extension": ".py",
   "mimetype": "text/x-python",
   "name": "python",
   "nbconvert_exporter": "python",
   "pygments_lexer": "ipython3",
   "version": "3.7.3"
  },
  "latex_envs": {
   "LaTeX_envs_menu_present": true,
   "autoclose": false,
   "autocomplete": true,
   "bibliofile": "biblio.bib",
   "cite_by": "apalike",
   "current_citInitial": 1,
   "eqLabelWithNumbers": true,
   "eqNumInitial": 1,
   "hotkeys": {
    "equation": "Ctrl-E",
    "itemize": "Ctrl-I"
   },
   "labels_anchors": false,
   "latex_user_defs": false,
   "report_style_numbering": false,
   "user_envs_cfg": false
  },
  "varInspector": {
   "cols": {
    "lenName": 16,
    "lenType": 16,
    "lenVar": 40
   },
   "kernels_config": {
    "python": {
     "delete_cmd_postfix": "",
     "delete_cmd_prefix": "del ",
     "library": "var_list.py",
     "varRefreshCmd": "print(var_dic_list())"
    },
    "r": {
     "delete_cmd_postfix": ") ",
     "delete_cmd_prefix": "rm(",
     "library": "var_list.r",
     "varRefreshCmd": "cat(var_dic_list()) "
    }
   },
   "types_to_exclude": [
    "module",
    "function",
    "builtin_function_or_method",
    "instance",
    "_Feature"
   ],
   "window_display": false
  }
 },
 "nbformat": 4,
 "nbformat_minor": 2
}
